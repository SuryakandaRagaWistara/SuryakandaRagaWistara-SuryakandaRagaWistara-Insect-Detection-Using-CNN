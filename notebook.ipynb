{
  "nbformat": 4,
  "nbformat_minor": 0,
  "metadata": {
    "colab": {
      "provenance": []
    },
    "kernelspec": {
      "name": "python3",
      "display_name": "Python 3"
    },
    "language_info": {
      "name": "python"
    }
  },
  "cells": [
    {
      "cell_type": "code",
      "execution_count": 1,
      "metadata": {
        "colab": {
          "base_uri": "https://localhost:8080/"
        },
        "id": "q3gxS1Os_0UM",
        "outputId": "bf6a2e99-4012-473e-c38a-685d587eeb99"
      },
      "outputs": [
        {
          "output_type": "stream",
          "name": "stdout",
          "text": [
            "Requirement already satisfied: tensorflow in /usr/local/lib/python3.11/dist-packages (2.18.0)\n",
            "Collecting tensorflowjs\n",
            "  Downloading tensorflowjs-4.22.0-py3-none-any.whl.metadata (3.2 kB)\n",
            "Requirement already satisfied: absl-py>=1.0.0 in /usr/local/lib/python3.11/dist-packages (from tensorflow) (1.4.0)\n",
            "Requirement already satisfied: astunparse>=1.6.0 in /usr/local/lib/python3.11/dist-packages (from tensorflow) (1.6.3)\n",
            "Requirement already satisfied: flatbuffers>=24.3.25 in /usr/local/lib/python3.11/dist-packages (from tensorflow) (25.2.10)\n",
            "Requirement already satisfied: gast!=0.5.0,!=0.5.1,!=0.5.2,>=0.2.1 in /usr/local/lib/python3.11/dist-packages (from tensorflow) (0.6.0)\n",
            "Requirement already satisfied: google-pasta>=0.1.1 in /usr/local/lib/python3.11/dist-packages (from tensorflow) (0.2.0)\n",
            "Requirement already satisfied: libclang>=13.0.0 in /usr/local/lib/python3.11/dist-packages (from tensorflow) (18.1.1)\n",
            "Requirement already satisfied: opt-einsum>=2.3.2 in /usr/local/lib/python3.11/dist-packages (from tensorflow) (3.4.0)\n",
            "Requirement already satisfied: packaging in /usr/local/lib/python3.11/dist-packages (from tensorflow) (24.2)\n",
            "Requirement already satisfied: protobuf!=4.21.0,!=4.21.1,!=4.21.2,!=4.21.3,!=4.21.4,!=4.21.5,<6.0.0dev,>=3.20.3 in /usr/local/lib/python3.11/dist-packages (from tensorflow) (5.29.3)\n",
            "Requirement already satisfied: requests<3,>=2.21.0 in /usr/local/lib/python3.11/dist-packages (from tensorflow) (2.32.3)\n",
            "Requirement already satisfied: setuptools in /usr/local/lib/python3.11/dist-packages (from tensorflow) (75.1.0)\n",
            "Requirement already satisfied: six>=1.12.0 in /usr/local/lib/python3.11/dist-packages (from tensorflow) (1.17.0)\n",
            "Requirement already satisfied: termcolor>=1.1.0 in /usr/local/lib/python3.11/dist-packages (from tensorflow) (2.5.0)\n",
            "Requirement already satisfied: typing-extensions>=3.6.6 in /usr/local/lib/python3.11/dist-packages (from tensorflow) (4.12.2)\n",
            "Requirement already satisfied: wrapt>=1.11.0 in /usr/local/lib/python3.11/dist-packages (from tensorflow) (1.17.2)\n",
            "Requirement already satisfied: grpcio<2.0,>=1.24.3 in /usr/local/lib/python3.11/dist-packages (from tensorflow) (1.71.0)\n",
            "Requirement already satisfied: tensorboard<2.19,>=2.18 in /usr/local/lib/python3.11/dist-packages (from tensorflow) (2.18.0)\n",
            "Requirement already satisfied: keras>=3.5.0 in /usr/local/lib/python3.11/dist-packages (from tensorflow) (3.8.0)\n",
            "Requirement already satisfied: numpy<2.1.0,>=1.26.0 in /usr/local/lib/python3.11/dist-packages (from tensorflow) (2.0.2)\n",
            "Requirement already satisfied: h5py>=3.11.0 in /usr/local/lib/python3.11/dist-packages (from tensorflow) (3.13.0)\n",
            "Requirement already satisfied: ml-dtypes<0.5.0,>=0.4.0 in /usr/local/lib/python3.11/dist-packages (from tensorflow) (0.4.1)\n",
            "Requirement already satisfied: tensorflow-io-gcs-filesystem>=0.23.1 in /usr/local/lib/python3.11/dist-packages (from tensorflow) (0.37.1)\n",
            "Requirement already satisfied: flax>=0.7.2 in /usr/local/lib/python3.11/dist-packages (from tensorflowjs) (0.10.4)\n",
            "Requirement already satisfied: importlib_resources>=5.9.0 in /usr/local/lib/python3.11/dist-packages (from tensorflowjs) (6.5.2)\n",
            "Requirement already satisfied: jax>=0.4.13 in /usr/local/lib/python3.11/dist-packages (from tensorflowjs) (0.5.2)\n",
            "Requirement already satisfied: jaxlib>=0.4.13 in /usr/local/lib/python3.11/dist-packages (from tensorflowjs) (0.5.1)\n",
            "Requirement already satisfied: tf-keras>=2.13.0 in /usr/local/lib/python3.11/dist-packages (from tensorflowjs) (2.18.0)\n",
            "Collecting tensorflow-decision-forests>=1.5.0 (from tensorflowjs)\n",
            "  Downloading tensorflow_decision_forests-1.12.0-cp311-cp311-manylinux_2_17_x86_64.manylinux2014_x86_64.whl.metadata (6.3 kB)\n",
            "Requirement already satisfied: tensorflow-hub>=0.16.1 in /usr/local/lib/python3.11/dist-packages (from tensorflowjs) (0.16.1)\n",
            "Collecting packaging (from tensorflow)\n",
            "  Downloading packaging-23.2-py3-none-any.whl.metadata (3.2 kB)\n",
            "Requirement already satisfied: wheel<1.0,>=0.23.0 in /usr/local/lib/python3.11/dist-packages (from astunparse>=1.6.0->tensorflow) (0.45.1)\n",
            "Requirement already satisfied: msgpack in /usr/local/lib/python3.11/dist-packages (from flax>=0.7.2->tensorflowjs) (1.1.0)\n",
            "Requirement already satisfied: optax in /usr/local/lib/python3.11/dist-packages (from flax>=0.7.2->tensorflowjs) (0.2.4)\n",
            "Requirement already satisfied: orbax-checkpoint in /usr/local/lib/python3.11/dist-packages (from flax>=0.7.2->tensorflowjs) (0.11.9)\n",
            "Requirement already satisfied: tensorstore in /usr/local/lib/python3.11/dist-packages (from flax>=0.7.2->tensorflowjs) (0.1.72)\n",
            "Requirement already satisfied: rich>=11.1 in /usr/local/lib/python3.11/dist-packages (from flax>=0.7.2->tensorflowjs) (13.9.4)\n",
            "Requirement already satisfied: PyYAML>=5.4.1 in /usr/local/lib/python3.11/dist-packages (from flax>=0.7.2->tensorflowjs) (6.0.2)\n",
            "Requirement already satisfied: treescope>=0.1.7 in /usr/local/lib/python3.11/dist-packages (from flax>=0.7.2->tensorflowjs) (0.1.9)\n",
            "Requirement already satisfied: scipy>=1.11.1 in /usr/local/lib/python3.11/dist-packages (from jax>=0.4.13->tensorflowjs) (1.14.1)\n",
            "Requirement already satisfied: namex in /usr/local/lib/python3.11/dist-packages (from keras>=3.5.0->tensorflow) (0.0.8)\n",
            "Requirement already satisfied: optree in /usr/local/lib/python3.11/dist-packages (from keras>=3.5.0->tensorflow) (0.14.1)\n",
            "Requirement already satisfied: charset-normalizer<4,>=2 in /usr/local/lib/python3.11/dist-packages (from requests<3,>=2.21.0->tensorflow) (3.4.1)\n",
            "Requirement already satisfied: idna<4,>=2.5 in /usr/local/lib/python3.11/dist-packages (from requests<3,>=2.21.0->tensorflow) (3.10)\n",
            "Requirement already satisfied: urllib3<3,>=1.21.1 in /usr/local/lib/python3.11/dist-packages (from requests<3,>=2.21.0->tensorflow) (2.3.0)\n",
            "Requirement already satisfied: certifi>=2017.4.17 in /usr/local/lib/python3.11/dist-packages (from requests<3,>=2.21.0->tensorflow) (2025.1.31)\n",
            "Requirement already satisfied: markdown>=2.6.8 in /usr/local/lib/python3.11/dist-packages (from tensorboard<2.19,>=2.18->tensorflow) (3.7)\n",
            "Requirement already satisfied: tensorboard-data-server<0.8.0,>=0.7.0 in /usr/local/lib/python3.11/dist-packages (from tensorboard<2.19,>=2.18->tensorflow) (0.7.2)\n",
            "Requirement already satisfied: werkzeug>=1.0.1 in /usr/local/lib/python3.11/dist-packages (from tensorboard<2.19,>=2.18->tensorflow) (3.1.3)\n",
            "Requirement already satisfied: pandas in /usr/local/lib/python3.11/dist-packages (from tensorflow-decision-forests>=1.5.0->tensorflowjs) (2.2.2)\n",
            "Collecting tensorflow\n",
            "  Downloading tensorflow-2.19.0-cp311-cp311-manylinux_2_17_x86_64.manylinux2014_x86_64.whl.metadata (4.1 kB)\n",
            "Collecting wurlitzer (from tensorflow-decision-forests>=1.5.0->tensorflowjs)\n",
            "  Downloading wurlitzer-3.1.1-py3-none-any.whl.metadata (2.5 kB)\n",
            "Collecting tf-keras>=2.13.0 (from tensorflowjs)\n",
            "  Downloading tf_keras-2.19.0-py3-none-any.whl.metadata (1.8 kB)\n",
            "Collecting ydf>=0.11.0 (from tensorflow-decision-forests>=1.5.0->tensorflowjs)\n",
            "  Downloading ydf-0.11.0-cp311-cp311-manylinux_2_17_x86_64.manylinux2014_x86_64.whl.metadata (3.5 kB)\n",
            "Collecting tensorboard~=2.19.0 (from tensorflow)\n",
            "  Downloading tensorboard-2.19.0-py3-none-any.whl.metadata (1.8 kB)\n",
            "Collecting ml_dtypes>=0.4.0 (from jax>=0.4.13->tensorflowjs)\n",
            "  Downloading ml_dtypes-0.5.1-cp311-cp311-manylinux_2_17_x86_64.manylinux2014_x86_64.whl.metadata (21 kB)\n",
            "Requirement already satisfied: markdown-it-py>=2.2.0 in /usr/local/lib/python3.11/dist-packages (from rich>=11.1->flax>=0.7.2->tensorflowjs) (3.0.0)\n",
            "Requirement already satisfied: pygments<3.0.0,>=2.13.0 in /usr/local/lib/python3.11/dist-packages (from rich>=11.1->flax>=0.7.2->tensorflowjs) (2.18.0)\n",
            "Requirement already satisfied: MarkupSafe>=2.1.1 in /usr/local/lib/python3.11/dist-packages (from werkzeug>=1.0.1->tensorboard<2.19,>=2.18->tensorflow) (3.0.2)\n",
            "Requirement already satisfied: chex>=0.1.87 in /usr/local/lib/python3.11/dist-packages (from optax->flax>=0.7.2->tensorflowjs) (0.1.89)\n",
            "Requirement already satisfied: etils[epy] in /usr/local/lib/python3.11/dist-packages (from optax->flax>=0.7.2->tensorflowjs) (1.12.2)\n",
            "Requirement already satisfied: nest_asyncio in /usr/local/lib/python3.11/dist-packages (from orbax-checkpoint->flax>=0.7.2->tensorflowjs) (1.6.0)\n",
            "Requirement already satisfied: humanize in /usr/local/lib/python3.11/dist-packages (from orbax-checkpoint->flax>=0.7.2->tensorflowjs) (4.12.1)\n",
            "Requirement already satisfied: simplejson>=3.16.0 in /usr/local/lib/python3.11/dist-packages (from orbax-checkpoint->flax>=0.7.2->tensorflowjs) (3.20.1)\n",
            "Requirement already satisfied: python-dateutil>=2.8.2 in /usr/local/lib/python3.11/dist-packages (from pandas->tensorflow-decision-forests>=1.5.0->tensorflowjs) (2.8.2)\n",
            "Requirement already satisfied: pytz>=2020.1 in /usr/local/lib/python3.11/dist-packages (from pandas->tensorflow-decision-forests>=1.5.0->tensorflowjs) (2025.1)\n",
            "Requirement already satisfied: tzdata>=2022.7 in /usr/local/lib/python3.11/dist-packages (from pandas->tensorflow-decision-forests>=1.5.0->tensorflowjs) (2025.1)\n",
            "Requirement already satisfied: toolz>=0.9.0 in /usr/local/lib/python3.11/dist-packages (from chex>=0.1.87->optax->flax>=0.7.2->tensorflowjs) (0.12.1)\n",
            "Requirement already satisfied: mdurl~=0.1 in /usr/local/lib/python3.11/dist-packages (from markdown-it-py>=2.2.0->rich>=11.1->flax>=0.7.2->tensorflowjs) (0.1.2)\n",
            "Requirement already satisfied: fsspec in /usr/local/lib/python3.11/dist-packages (from etils[epath,epy]->orbax-checkpoint->flax>=0.7.2->tensorflowjs) (2025.3.0)\n",
            "Requirement already satisfied: zipp in /usr/local/lib/python3.11/dist-packages (from etils[epath,epy]->orbax-checkpoint->flax>=0.7.2->tensorflowjs) (3.21.0)\n",
            "Downloading tensorflowjs-4.22.0-py3-none-any.whl (89 kB)\n",
            "\u001b[2K   \u001b[90m━━━━━━━━━━━━━━━━━━━━━━━━━━━━━━━━━━━━━━━━\u001b[0m \u001b[32m89.1/89.1 kB\u001b[0m \u001b[31m2.1 MB/s\u001b[0m eta \u001b[36m0:00:00\u001b[0m\n",
            "\u001b[?25hDownloading packaging-23.2-py3-none-any.whl (53 kB)\n",
            "\u001b[2K   \u001b[90m━━━━━━━━━━━━━━━━━━━━━━━━━━━━━━━━━━━━━━━━\u001b[0m \u001b[32m53.0/53.0 kB\u001b[0m \u001b[31m3.1 MB/s\u001b[0m eta \u001b[36m0:00:00\u001b[0m\n",
            "\u001b[?25hDownloading tensorflow_decision_forests-1.12.0-cp311-cp311-manylinux_2_17_x86_64.manylinux2014_x86_64.whl (16.1 MB)\n",
            "\u001b[2K   \u001b[90m━━━━━━━━━━━━━━━━━━━━━━━━━━━━━━━━━━━━━━━━\u001b[0m \u001b[32m16.1/16.1 MB\u001b[0m \u001b[31m22.7 MB/s\u001b[0m eta \u001b[36m0:00:00\u001b[0m\n",
            "\u001b[?25hDownloading tensorflow-2.19.0-cp311-cp311-manylinux_2_17_x86_64.manylinux2014_x86_64.whl (644.9 MB)\n",
            "\u001b[2K   \u001b[90m━━━━━━━━━━━━━━━━━━━━━━━━━━━━━━━━━━━━━━━━\u001b[0m \u001b[32m644.9/644.9 MB\u001b[0m \u001b[31m1.3 MB/s\u001b[0m eta \u001b[36m0:00:00\u001b[0m\n",
            "\u001b[?25hDownloading ml_dtypes-0.5.1-cp311-cp311-manylinux_2_17_x86_64.manylinux2014_x86_64.whl (4.7 MB)\n",
            "\u001b[2K   \u001b[90m━━━━━━━━━━━━━━━━━━━━━━━━━━━━━━━━━━━━━━━━\u001b[0m \u001b[32m4.7/4.7 MB\u001b[0m \u001b[31m81.3 MB/s\u001b[0m eta \u001b[36m0:00:00\u001b[0m\n",
            "\u001b[?25hDownloading tensorboard-2.19.0-py3-none-any.whl (5.5 MB)\n",
            "\u001b[2K   \u001b[90m━━━━━━━━━━━━━━━━━━━━━━━━━━━━━━━━━━━━━━━━\u001b[0m \u001b[32m5.5/5.5 MB\u001b[0m \u001b[31m97.9 MB/s\u001b[0m eta \u001b[36m0:00:00\u001b[0m\n",
            "\u001b[?25hDownloading tf_keras-2.19.0-py3-none-any.whl (1.7 MB)\n",
            "\u001b[2K   \u001b[90m━━━━━━━━━━━━━━━━━━━━━━━━━━━━━━━━━━━━━━━━\u001b[0m \u001b[32m1.7/1.7 MB\u001b[0m \u001b[31m64.8 MB/s\u001b[0m eta \u001b[36m0:00:00\u001b[0m\n",
            "\u001b[?25hDownloading ydf-0.11.0-cp311-cp311-manylinux_2_17_x86_64.manylinux2014_x86_64.whl (12.0 MB)\n",
            "\u001b[2K   \u001b[90m━━━━━━━━━━━━━━━━━━━━━━━━━━━━━━━━━━━━━━━━\u001b[0m \u001b[32m12.0/12.0 MB\u001b[0m \u001b[31m81.3 MB/s\u001b[0m eta \u001b[36m0:00:00\u001b[0m\n",
            "\u001b[?25hDownloading wurlitzer-3.1.1-py3-none-any.whl (8.6 kB)\n",
            "Installing collected packages: ydf, wurlitzer, packaging, ml_dtypes, tensorboard, tensorflow, tf-keras, tensorflow-decision-forests, tensorflowjs\n",
            "  Attempting uninstall: packaging\n",
            "    Found existing installation: packaging 24.2\n",
            "    Uninstalling packaging-24.2:\n",
            "      Successfully uninstalled packaging-24.2\n",
            "  Attempting uninstall: ml_dtypes\n",
            "    Found existing installation: ml-dtypes 0.4.1\n",
            "    Uninstalling ml-dtypes-0.4.1:\n",
            "      Successfully uninstalled ml-dtypes-0.4.1\n",
            "  Attempting uninstall: tensorboard\n",
            "    Found existing installation: tensorboard 2.18.0\n",
            "    Uninstalling tensorboard-2.18.0:\n",
            "      Successfully uninstalled tensorboard-2.18.0\n",
            "  Attempting uninstall: tensorflow\n",
            "    Found existing installation: tensorflow 2.18.0\n",
            "    Uninstalling tensorflow-2.18.0:\n",
            "      Successfully uninstalled tensorflow-2.18.0\n",
            "  Attempting uninstall: tf-keras\n",
            "    Found existing installation: tf_keras 2.18.0\n",
            "    Uninstalling tf_keras-2.18.0:\n",
            "      Successfully uninstalled tf_keras-2.18.0\n",
            "\u001b[31mERROR: pip's dependency resolver does not currently take into account all the packages that are installed. This behaviour is the source of the following dependency conflicts.\n",
            "tensorflow-text 2.18.1 requires tensorflow<2.19,>=2.18.0, but you have tensorflow 2.19.0 which is incompatible.\u001b[0m\u001b[31m\n",
            "\u001b[0mSuccessfully installed ml_dtypes-0.5.1 packaging-23.2 tensorboard-2.19.0 tensorflow-2.19.0 tensorflow-decision-forests-1.12.0 tensorflowjs-4.22.0 tf-keras-2.19.0 wurlitzer-3.1.1 ydf-0.11.0\n",
            "Requirement already satisfied: kaggle in /usr/local/lib/python3.11/dist-packages (1.7.4.2)\n",
            "Requirement already satisfied: bleach in /usr/local/lib/python3.11/dist-packages (from kaggle) (6.2.0)\n",
            "Requirement already satisfied: certifi>=14.05.14 in /usr/local/lib/python3.11/dist-packages (from kaggle) (2025.1.31)\n",
            "Requirement already satisfied: charset-normalizer in /usr/local/lib/python3.11/dist-packages (from kaggle) (3.4.1)\n",
            "Requirement already satisfied: idna in /usr/local/lib/python3.11/dist-packages (from kaggle) (3.10)\n",
            "Requirement already satisfied: protobuf in /usr/local/lib/python3.11/dist-packages (from kaggle) (5.29.3)\n",
            "Requirement already satisfied: python-dateutil>=2.5.3 in /usr/local/lib/python3.11/dist-packages (from kaggle) (2.8.2)\n",
            "Requirement already satisfied: python-slugify in /usr/local/lib/python3.11/dist-packages (from kaggle) (8.0.4)\n",
            "Requirement already satisfied: requests in /usr/local/lib/python3.11/dist-packages (from kaggle) (2.32.3)\n",
            "Requirement already satisfied: setuptools>=21.0.0 in /usr/local/lib/python3.11/dist-packages (from kaggle) (75.1.0)\n",
            "Requirement already satisfied: six>=1.10 in /usr/local/lib/python3.11/dist-packages (from kaggle) (1.17.0)\n",
            "Requirement already satisfied: text-unidecode in /usr/local/lib/python3.11/dist-packages (from kaggle) (1.3)\n",
            "Requirement already satisfied: tqdm in /usr/local/lib/python3.11/dist-packages (from kaggle) (4.67.1)\n",
            "Requirement already satisfied: urllib3>=1.15.1 in /usr/local/lib/python3.11/dist-packages (from kaggle) (2.3.0)\n",
            "Requirement already satisfied: webencodings in /usr/local/lib/python3.11/dist-packages (from kaggle) (0.5.1)\n"
          ]
        }
      ],
      "source": [
        "# Install library yang diperlukan\n",
        "!pip install tensorflow tensorflowjs\n",
        "!pip install kaggle"
      ]
    },
    {
      "cell_type": "code",
      "source": [
        "import os\n",
        "import zipfile\n",
        "import shutil\n",
        "import random\n",
        "import numpy as np\n",
        "import tensorflow as tf\n",
        "import matplotlib.pyplot as plt\n",
        "from PIL import Image, ImageFile\n",
        "from tensorflow import keras\n",
        "from tensorflow.keras import layers\n",
        "from tensorflow.keras.preprocessing.image import ImageDataGenerator\n",
        "\n",
        "# Paksa load gambar yang rusak\n",
        "ImageFile.LOAD_TRUNCATED_IMAGES = True"
      ],
      "metadata": {
        "id": "SSNe-r4x_2mX"
      },
      "execution_count": 2,
      "outputs": []
    },
    {
      "cell_type": "code",
      "source": [
        "# Upload kaggle.json\n",
        "from google.colab import files\n",
        "files.upload()\n",
        "\n",
        "# Pindahkan kaggle.json ke ~/.kaggle\n",
        "!mkdir -p ~/.kaggle\n",
        "!mv kaggle.json ~/.kaggle/\n",
        "!chmod 600 ~/.kaggle/kaggle.json\n",
        "\n",
        "# Download dataset\n",
        "!kaggle datasets download -d ismail703/insects\n",
        "\n",
        "# Ekstrak dataset\n",
        "with zipfile.ZipFile(\"insects.zip\", \"r\") as zip_ref:\n",
        "    zip_ref.extractall(\"dataset\")\n",
        "\n",
        "# Hapus zip file agar tidak memenuhi storage\n",
        "os.remove(\"insects.zip\")\n",
        "\n"
      ],
      "metadata": {
        "colab": {
          "base_uri": "https://localhost:8080/",
          "height": 110
        },
        "id": "69K0TjC3_82K",
        "outputId": "eb8d2d22-932e-424e-ab9c-65908f99b84c"
      },
      "execution_count": 3,
      "outputs": [
        {
          "output_type": "display_data",
          "data": {
            "text/plain": [
              "<IPython.core.display.HTML object>"
            ],
            "text/html": [
              "\n",
              "     <input type=\"file\" id=\"files-7735c3a3-b6f2-4c72-94e1-d613ecf5a9f7\" name=\"files[]\" multiple disabled\n",
              "        style=\"border:none\" />\n",
              "     <output id=\"result-7735c3a3-b6f2-4c72-94e1-d613ecf5a9f7\">\n",
              "      Upload widget is only available when the cell has been executed in the\n",
              "      current browser session. Please rerun this cell to enable.\n",
              "      </output>\n",
              "      <script>// Copyright 2017 Google LLC\n",
              "//\n",
              "// Licensed under the Apache License, Version 2.0 (the \"License\");\n",
              "// you may not use this file except in compliance with the License.\n",
              "// You may obtain a copy of the License at\n",
              "//\n",
              "//      http://www.apache.org/licenses/LICENSE-2.0\n",
              "//\n",
              "// Unless required by applicable law or agreed to in writing, software\n",
              "// distributed under the License is distributed on an \"AS IS\" BASIS,\n",
              "// WITHOUT WARRANTIES OR CONDITIONS OF ANY KIND, either express or implied.\n",
              "// See the License for the specific language governing permissions and\n",
              "// limitations under the License.\n",
              "\n",
              "/**\n",
              " * @fileoverview Helpers for google.colab Python module.\n",
              " */\n",
              "(function(scope) {\n",
              "function span(text, styleAttributes = {}) {\n",
              "  const element = document.createElement('span');\n",
              "  element.textContent = text;\n",
              "  for (const key of Object.keys(styleAttributes)) {\n",
              "    element.style[key] = styleAttributes[key];\n",
              "  }\n",
              "  return element;\n",
              "}\n",
              "\n",
              "// Max number of bytes which will be uploaded at a time.\n",
              "const MAX_PAYLOAD_SIZE = 100 * 1024;\n",
              "\n",
              "function _uploadFiles(inputId, outputId) {\n",
              "  const steps = uploadFilesStep(inputId, outputId);\n",
              "  const outputElement = document.getElementById(outputId);\n",
              "  // Cache steps on the outputElement to make it available for the next call\n",
              "  // to uploadFilesContinue from Python.\n",
              "  outputElement.steps = steps;\n",
              "\n",
              "  return _uploadFilesContinue(outputId);\n",
              "}\n",
              "\n",
              "// This is roughly an async generator (not supported in the browser yet),\n",
              "// where there are multiple asynchronous steps and the Python side is going\n",
              "// to poll for completion of each step.\n",
              "// This uses a Promise to block the python side on completion of each step,\n",
              "// then passes the result of the previous step as the input to the next step.\n",
              "function _uploadFilesContinue(outputId) {\n",
              "  const outputElement = document.getElementById(outputId);\n",
              "  const steps = outputElement.steps;\n",
              "\n",
              "  const next = steps.next(outputElement.lastPromiseValue);\n",
              "  return Promise.resolve(next.value.promise).then((value) => {\n",
              "    // Cache the last promise value to make it available to the next\n",
              "    // step of the generator.\n",
              "    outputElement.lastPromiseValue = value;\n",
              "    return next.value.response;\n",
              "  });\n",
              "}\n",
              "\n",
              "/**\n",
              " * Generator function which is called between each async step of the upload\n",
              " * process.\n",
              " * @param {string} inputId Element ID of the input file picker element.\n",
              " * @param {string} outputId Element ID of the output display.\n",
              " * @return {!Iterable<!Object>} Iterable of next steps.\n",
              " */\n",
              "function* uploadFilesStep(inputId, outputId) {\n",
              "  const inputElement = document.getElementById(inputId);\n",
              "  inputElement.disabled = false;\n",
              "\n",
              "  const outputElement = document.getElementById(outputId);\n",
              "  outputElement.innerHTML = '';\n",
              "\n",
              "  const pickedPromise = new Promise((resolve) => {\n",
              "    inputElement.addEventListener('change', (e) => {\n",
              "      resolve(e.target.files);\n",
              "    });\n",
              "  });\n",
              "\n",
              "  const cancel = document.createElement('button');\n",
              "  inputElement.parentElement.appendChild(cancel);\n",
              "  cancel.textContent = 'Cancel upload';\n",
              "  const cancelPromise = new Promise((resolve) => {\n",
              "    cancel.onclick = () => {\n",
              "      resolve(null);\n",
              "    };\n",
              "  });\n",
              "\n",
              "  // Wait for the user to pick the files.\n",
              "  const files = yield {\n",
              "    promise: Promise.race([pickedPromise, cancelPromise]),\n",
              "    response: {\n",
              "      action: 'starting',\n",
              "    }\n",
              "  };\n",
              "\n",
              "  cancel.remove();\n",
              "\n",
              "  // Disable the input element since further picks are not allowed.\n",
              "  inputElement.disabled = true;\n",
              "\n",
              "  if (!files) {\n",
              "    return {\n",
              "      response: {\n",
              "        action: 'complete',\n",
              "      }\n",
              "    };\n",
              "  }\n",
              "\n",
              "  for (const file of files) {\n",
              "    const li = document.createElement('li');\n",
              "    li.append(span(file.name, {fontWeight: 'bold'}));\n",
              "    li.append(span(\n",
              "        `(${file.type || 'n/a'}) - ${file.size} bytes, ` +\n",
              "        `last modified: ${\n",
              "            file.lastModifiedDate ? file.lastModifiedDate.toLocaleDateString() :\n",
              "                                    'n/a'} - `));\n",
              "    const percent = span('0% done');\n",
              "    li.appendChild(percent);\n",
              "\n",
              "    outputElement.appendChild(li);\n",
              "\n",
              "    const fileDataPromise = new Promise((resolve) => {\n",
              "      const reader = new FileReader();\n",
              "      reader.onload = (e) => {\n",
              "        resolve(e.target.result);\n",
              "      };\n",
              "      reader.readAsArrayBuffer(file);\n",
              "    });\n",
              "    // Wait for the data to be ready.\n",
              "    let fileData = yield {\n",
              "      promise: fileDataPromise,\n",
              "      response: {\n",
              "        action: 'continue',\n",
              "      }\n",
              "    };\n",
              "\n",
              "    // Use a chunked sending to avoid message size limits. See b/62115660.\n",
              "    let position = 0;\n",
              "    do {\n",
              "      const length = Math.min(fileData.byteLength - position, MAX_PAYLOAD_SIZE);\n",
              "      const chunk = new Uint8Array(fileData, position, length);\n",
              "      position += length;\n",
              "\n",
              "      const base64 = btoa(String.fromCharCode.apply(null, chunk));\n",
              "      yield {\n",
              "        response: {\n",
              "          action: 'append',\n",
              "          file: file.name,\n",
              "          data: base64,\n",
              "        },\n",
              "      };\n",
              "\n",
              "      let percentDone = fileData.byteLength === 0 ?\n",
              "          100 :\n",
              "          Math.round((position / fileData.byteLength) * 100);\n",
              "      percent.textContent = `${percentDone}% done`;\n",
              "\n",
              "    } while (position < fileData.byteLength);\n",
              "  }\n",
              "\n",
              "  // All done.\n",
              "  yield {\n",
              "    response: {\n",
              "      action: 'complete',\n",
              "    }\n",
              "  };\n",
              "}\n",
              "\n",
              "scope.google = scope.google || {};\n",
              "scope.google.colab = scope.google.colab || {};\n",
              "scope.google.colab._files = {\n",
              "  _uploadFiles,\n",
              "  _uploadFilesContinue,\n",
              "};\n",
              "})(self);\n",
              "</script> "
            ]
          },
          "metadata": {}
        },
        {
          "output_type": "stream",
          "name": "stdout",
          "text": [
            "Saving kaggle.json to kaggle.json\n",
            "Dataset URL: https://www.kaggle.com/datasets/ismail703/insects\n",
            "License(s): unknown\n"
          ]
        }
      ]
    },
    {
      "cell_type": "code",
      "source": [
        "def test_open_images(directory):\n",
        "    failed_images = []\n",
        "    for root, _, files in os.walk(directory):\n",
        "        for file in files:\n",
        "            img_path = os.path.join(root, file)\n",
        "            try:\n",
        "                with Image.open(img_path) as img:\n",
        "                    img.load()\n",
        "            except Exception as e:\n",
        "                failed_images.append(img_path)\n",
        "                print(f\"Corrupted: {img_path}, Error: {e}\")\n",
        "\n",
        "    print(f\"Total undetected corrupted images: {len(failed_images)}\")\n",
        "    return failed_images\n",
        "\n",
        "# Cek semua gambar dalam dataset\n",
        "failed_images = test_open_images(\"dataset\")\n",
        "for img_path in failed_images:\n",
        "    os.remove(img_path)\n",
        "    print(f\"Removed: {img_path}\")\n"
      ],
      "metadata": {
        "colab": {
          "base_uri": "https://localhost:8080/"
        },
        "id": "eiAqxD4qARAj",
        "outputId": "2d637add-9a05-42c1-de6f-77a487fa0725"
      },
      "execution_count": 4,
      "outputs": [
        {
          "output_type": "stream",
          "name": "stderr",
          "text": [
            "/usr/local/lib/python3.11/dist-packages/PIL/TiffImagePlugin.py:949: UserWarning: Corrupt EXIF data.  Expecting to read 4 bytes but only got 0. \n",
            "  warnings.warn(str(msg))\n"
          ]
        },
        {
          "output_type": "stream",
          "name": "stdout",
          "text": [
            "Total undetected corrupted images: 0\n"
          ]
        }
      ]
    },
    {
      "cell_type": "code",
      "source": [
        "def convert_transparent_images(directory):\n",
        "    for root, _, files in os.walk(directory):\n",
        "        for file in files:\n",
        "            img_path = os.path.join(root, file)\n",
        "            try:\n",
        "                with Image.open(img_path) as img:\n",
        "                    if img.mode == 'P' or img.mode == 'RGBA':  # Cek jika ada transparansi\n",
        "                        img = img.convert('RGB')\n",
        "                        img.save(img_path)\n",
        "            except:\n",
        "                pass\n",
        "\n",
        "convert_transparent_images(\"dataset\")\n"
      ],
      "metadata": {
        "id": "Vz-GbXrzAWBz",
        "colab": {
          "base_uri": "https://localhost:8080/"
        },
        "outputId": "9860631f-88fb-49f2-9e21-5cf62dd57184"
      },
      "execution_count": 5,
      "outputs": [
        {
          "output_type": "stream",
          "name": "stderr",
          "text": [
            "/usr/local/lib/python3.11/dist-packages/PIL/Image.py:1045: UserWarning: Palette images with Transparency expressed in bytes should be converted to RGBA images\n",
            "  warnings.warn(\n"
          ]
        }
      ]
    },
    {
      "cell_type": "code",
      "source": [
        "# Buat folder untuk train, val, dan test\n",
        "base_dir = \"insects_data\"\n",
        "train_dir = os.path.join(base_dir, \"train\")\n",
        "val_dir = os.path.join(base_dir, \"val\")\n",
        "test_dir = os.path.join(base_dir, \"test\")\n",
        "\n",
        "os.makedirs(train_dir, exist_ok=True)\n",
        "os.makedirs(val_dir, exist_ok=True)\n",
        "os.makedirs(test_dir, exist_ok=True)\n",
        "\n",
        "# Bagi dataset 80% train, 10% val, 10% test\n",
        "def split_data(source, train_dir, val_dir, test_dir, split_ratio=(0.8, 0.1, 0.1)):\n",
        "    for category in os.listdir(source):\n",
        "        category_path = os.path.join(source, category)\n",
        "        if os.path.isdir(category_path):\n",
        "            images = os.listdir(category_path)\n",
        "            random.shuffle(images)\n",
        "\n",
        "            train_count = int(len(images) * split_ratio[0])\n",
        "            val_count = int(len(images) * split_ratio[1])\n",
        "\n",
        "            train_images = images[:train_count]\n",
        "            val_images = images[train_count:train_count + val_count]\n",
        "            test_images = images[train_count + val_count:]\n",
        "\n",
        "            # Create subdirectories for categories in train, val, and test directories\n",
        "            os.makedirs(os.path.join(train_dir, category), exist_ok=True)\n",
        "            os.makedirs(os.path.join(val_dir, category), exist_ok=True)\n",
        "            os.makedirs(os.path.join(test_dir, category), exist_ok=True)\n",
        "\n",
        "            for img in train_images:\n",
        "                shutil.move(os.path.join(category_path, img), os.path.join(train_dir, category, img))\n",
        "            for img in val_images:\n",
        "                shutil.move(os.path.join(category_path, img), os.path.join(val_dir, category, img))\n",
        "            for img in test_images:\n",
        "                shutil.move(os.path.join(category_path, img), os.path.join(test_dir, category, img))\n",
        "\n",
        "split_data(\"dataset\", train_dir, val_dir, test_dir)"
      ],
      "metadata": {
        "id": "e4bbOwQrAXRo"
      },
      "execution_count": 11,
      "outputs": []
    },
    {
      "cell_type": "code",
      "source": [
        "import os\n",
        "print(os.listdir(\"insects_data/train/Wasp/\"))  # Cek apakah file sudah ada di lokasi lain\n"
      ],
      "metadata": {
        "colab": {
          "base_uri": "https://localhost:8080/"
        },
        "id": "qkFRtCH4JJVM",
        "outputId": "4c04e7b2-114f-4e5f-cff4-c1c6fa8e8c03"
      },
      "execution_count": 12,
      "outputs": [
        {
          "output_type": "stream",
          "name": "stdout",
          "text": [
            "['Wasp_605.jpg', 'Wasp_95.jpg', 'Wasp_634.jpg', 'Wasp_781.jpg', 'Wasp_414.jpg', 'Wasp_147.jpeg', 'Wasp_527.jpg', 'Wasp_149.jpg', 'Wasp_310.jpg', 'Wasp_525.jpg', 'Wasp_816.jpg', 'Wasp_191.jpg', 'Wasp_680.jpg', 'Wasp_455.jpg', 'Wasp_687.jpg', 'Wasp_703.jpg', 'Wasp_260.jpg', 'Wasp_258.jpg', 'Wasp_183.jpg', 'Wasp_77.jpg', 'Wasp_325.jpg', 'Wasp_693.jpeg', 'Wasp_226.jpg', 'Wasp_105.jpg', 'Wasp_54.jpg', 'Wasp_294.png', 'Wasp_402.jpg', 'Wasp_125.jpg', 'Wasp_400.jpg', 'Wasp_71.jpg', 'Wasp_291.jpg', 'Wasp_679.jpg', 'Wasp_773.jpg', 'Wasp_704.jpg', 'Wasp_140.jpeg', 'Wasp_752.jpg', 'Wasp_587.jpg', 'Wasp_710.jpg', 'Wasp_656.jpg', 'Wasp_232.jpg', 'Wasp_427.jpg', 'Wasp_690.jpg', 'Wasp_452.jpg', 'Wasp_474.jpg', 'Wasp_314.jpeg', 'Wasp_624.jpg', 'Wasp_111.jpg', 'Wasp_424.jpg', 'Wasp_9.jpg', 'Wasp_756.jpg', 'Wasp_694.jpg', 'Wasp_221.jpg', 'Wasp_116.jpg', 'Wasp_419.jpg', 'Wasp_320.jpg', 'Wasp_352.jpg', 'Wasp_629.jpg', 'Wasp_673.jpg', 'Wasp_145.jpg', 'Wasp_465.jpg', 'Wasp_514.jpg', 'Wasp_102.jpg', 'Wasp_70.jpg', 'Wasp_59.jpg', 'Wasp_87.jpg', 'Wasp_667.jpg', 'Wasp_488.jpg', 'Wasp_699.jpg', 'Wasp_561.jpg', 'Wasp_411.jpg', 'Wasp_321.jpg', 'Wasp_61.jpg', 'Wasp_308.jpg', 'Wasp_759.jpg', 'Wasp_461.jpg', 'Wasp_124.jpg', 'Wasp_25.jpeg', 'Wasp_601.jpg', 'Wasp_681.jpg', 'Wasp_671.jpg', 'Wasp_351.jpg', 'Wasp_543.jpg', 'Wasp_533.jpg', 'Wasp_806.jpg', 'Wasp_389.jpg', 'Wasp_46.jpg', 'Wasp_230.jpg', 'Wasp_174.png', 'Wasp_688.jpg', 'Wasp_177.jpg', 'Wasp_88.jpg', 'Wasp_440.jpg', 'Wasp_442.jpg', 'Wasp_324.jpg', 'Wasp_178.jpg', 'Wasp_379.jpg', 'Wasp_558.jpg', 'Wasp_567.jpg', 'Wasp_272.jpg', 'Wasp_52.jpg', 'Wasp_539.jpg', 'Wasp_85.jpg', 'Wasp_754.jpg', 'Wasp_631.jpg', 'Wasp_515.jpg', 'Wasp_451.jpg', 'Wasp_92.jpg', 'Wasp_736.jpg', 'Wasp_376.jpg', 'Wasp_73.jpg', 'Wasp_17.jpg', 'Wasp_305.jpg', 'Wasp_113.jpg', 'Wasp_359.jpg', 'Wasp_8.jpg', 'Wasp_220.jpg', 'Wasp_119.jpg', 'Wasp_341.jpg', 'Wasp_377.jpg', 'Wasp_307.jpg', 'Wasp_464.jpg', 'Wasp_381.jpg', 'Wasp_129.jpg', 'Wasp_244.jpg', 'Wasp_299.jpg', 'Wasp_238.jpg', 'Wasp_90.jpg', 'Wasp_784.jpg', 'Wasp_662.jpg', 'Wasp_240.jpg', 'Wasp_763.jpg', 'Wasp_668.jpg', 'Wasp_537.jpg', 'Wasp_676.jpg', 'Wasp_731.jpg', 'Wasp_520.jpg', 'Wasp_588.jpg', 'Wasp_363.jpg', 'Wasp_499.jpg', 'Wasp_151.jpg', 'Wasp_650.jpg', 'Wasp_591.jpg', 'Wasp_279.jpg', 'Wasp_814.jpg', 'Wasp_76.jpg', 'Wasp_316.jpg', 'Wasp_777.jpg', 'Wasp_127.jpg', 'Wasp_801.jpg', 'Wasp_27.jpg', 'Wasp_439.jpg', 'Wasp_228.jpg', 'Wasp_261.jpg', 'Wasp_509.jpg', 'Wasp_252.jpg', 'Wasp_445.jpg', 'Wasp_194.jpg', 'Wasp_426.jpg', 'Wasp_507.jpg', 'Wasp_413.jpg', 'Wasp_196.jpg', 'Wasp_68.jpg', 'Wasp_340.jpeg', 'Wasp_241.jpg', 'Wasp_755.jpeg', 'Wasp_677.jpg', 'Wasp_346.jpg', 'Wasp_643.jpg', 'Wasp_269.jpg', 'Wasp_813.jpg', 'Wasp_361.jpg', 'Wasp_610.jpg', 'Wasp_57.jpg', 'Wasp_317.jpg', 'Wasp_568.jpg', 'Wasp_345.jpg', 'Wasp_197.jpg', 'Wasp_466.jpg', 'Wasp_406.jpg', 'Wasp_795.jpg', 'Wasp_529.jpg', 'Wasp_225.jpg', 'Wasp_611.jpg', 'Wasp_108.jpg', 'Wasp_486.jpg', 'Wasp_255.jpg', 'Wasp_53.jpg', 'Wasp_722.jpg', 'Wasp_600.jpg', 'Wasp_546.jpg', 'Wasp_470.jpg', 'Wasp_578.jpg', 'Wasp_749.jpg', 'Wasp_303.jpg', 'Wasp_596.jpg', 'Wasp_489.jpg', 'Wasp_776.jpg', 'Wasp_572.jpg', 'Wasp_56.jpg', 'Wasp_288.jpg', 'Wasp_635.jpg', 'Wasp_716.jpg', 'Wasp_186.jpg', 'Wasp_19.jpg', 'Wasp_96.jpg', 'Wasp_117.jpg', 'Wasp_480.jpg', 'Wasp_519.jpg', 'Wasp_110.jpg', 'Wasp_84.jpg', 'Wasp_360.jpg', 'Wasp_521.jpg', 'Wasp_139.jpg', 'Wasp_609.jpg', 'Wasp_590.jpg', 'Wasp_553.jpg', 'Wasp_399.jpg', 'Wasp_794.jpg', 'Wasp_332.jpg', 'Wasp_708.jpg', 'Wasp_483.jpg', 'Wasp_142.jpg', 'Wasp_476.jpg', 'Wasp_482.jpg', 'Wasp_67.jpg', 'Wasp_55.jpg', 'Wasp_173.jpg', 'Wasp_11.jpg', 'Wasp_603.jpg', 'Wasp_16.jpg', 'Wasp_4.jpg', 'Wasp_446.jpg', 'Wasp_484.jpg', 'Wasp_94.jpg', 'Wasp_689.jpg', 'Wasp_323.jpg', 'Wasp_304.jpg', 'Wasp_607.jpg', 'Wasp_685.jpg', 'Wasp_415.jpg', 'Wasp_782.jpg', 'Wasp_133.jpg', 'Wasp_792.jpg', 'Wasp_242.jpg', 'Wasp_334.jpg', 'Wasp_161.jpg', 'Wasp_637.png', 'Wasp_165.jpg', 'Wasp_663.jpg', 'Wasp_364.jpg', 'Wasp_262.jpg', 'Wasp_152.jpg', 'Wasp_502.jpg', 'Wasp_285.jpg', 'Wasp_744.jpg', 'Wasp_472.jpg', 'Wasp_473.jpg', 'Wasp_333.jpg', 'Wasp_202.jpg', 'Wasp_454.jpg', 'Wasp_50.jpg', 'Wasp_481.jpg', 'Wasp_237.jpg', 'Wasp_718.jpg', 'Wasp_649.jpg', 'Wasp_35.jpg', 'Wasp_550.jpg', 'Wasp_195.jpg', 'Wasp_374.jpg', 'Wasp_640.jpg', 'Wasp_203.jpg', 'Wasp_664.jpg', 'Wasp_126.jpg', 'Wasp_256.jpg', 'Wasp_606.jpg', 'Wasp_189.jpg', 'Wasp_642.png', 'Wasp_565.jpg', 'Wasp_774.png', 'Wasp_805.jpg', 'Wasp_469.jpg', 'Wasp_534.jpg', 'Wasp_536.jpg', 'Wasp_700.jpg', 'Wasp_49.png', 'Wasp_82.jpg', 'Wasp_740.png', 'Wasp_247.jpeg', 'Wasp_362.jpg', 'Wasp_597.jpeg', 'Wasp_447.jpg', 'Wasp_646.jpg', 'Wasp_128.jpg', 'Wasp_608.jpg', 'Wasp_696.jpg', 'Wasp_227.jpg', 'Wasp_311.jpg', 'Wasp_358.jpg', 'Wasp_517.jpg', 'Wasp_216.jpg', 'Wasp_51.jpg', 'Wasp_218.jpg', 'Wasp_32.jpg', 'Wasp_93.jpg', 'Wasp_162.png', 'Wasp_741.jpg', 'Wasp_494.jpg', 'Wasp_724.jpg', 'Wasp_815.jpg', 'Wasp_349.jpg', 'Wasp_438.jpg', 'Wasp_508.jpg', 'Wasp_697.jpg', 'Wasp_136.jpg', 'Wasp_249.jpg', 'Wasp_103.jpg', 'Wasp_153.jpg', 'Wasp_547.jpg', 'Wasp_298.jpeg', 'Wasp_112.jpg', 'Wasp_648.jpg', 'Wasp_175.png', 'Wasp_523.jpg', 'Wasp_356.jpg', 'Wasp_585.jpg', 'Wasp_357.jpg', 'Wasp_412.jpg', 'Wasp_500.jpg', 'Wasp_571.jpg', 'Wasp_767.jpg', 'Wasp_38.jpg', 'Wasp_630.jpg', 'Wasp_167.jpg', 'Wasp_309.jpg', 'Wasp_798.jpg', 'Wasp_65.jpg', 'Wasp_783.jpg', 'Wasp_398.jpg', 'Wasp_23.jpg', 'Wasp_496.jpg', 'Wasp_448.jpg', 'Wasp_684.jpg', 'Wasp_286.jpg', 'Wasp_336.jpg', 'Wasp_707.jpg', 'Wasp_386.jpg', 'Wasp_131.jpg', 'Wasp_674.jpg', 'Wasp_180.jpg', 'Wasp_78.jpg', 'Wasp_443.jpg', 'Wasp_770.jpg', 'Wasp_686.jpg', 'Wasp_721.jpg', 'Wasp_339.jpg', 'Wasp_613.jpg', 'Wasp_457.jpg', 'Wasp_661.jpg', 'Wasp_505.jpg', 'Wasp_713.jpg', 'Wasp_580.jpg', 'Wasp_682.jpg', 'Wasp_458.jpg', 'Wasp_582.jpg', 'Wasp_21.jpg', 'Wasp_409.jpg', 'Wasp_44.jpg', 'Wasp_13.jpg', 'Wasp_205.jpg', 'Wasp_302.jpg', 'Wasp_101.jpg', 'Wasp_42.jpg', 'Wasp_120.jpg', 'Wasp_246.jpg', 'Wasp_450.jpg', 'Wasp_594.png', 'Wasp_735.png', 'Wasp_91.jpg', 'Wasp_628.jpg', 'Wasp_282.jpg', 'Wasp_387.jpg', 'Wasp_692.jpg', 'Wasp_796.jpg', 'Wasp_135.jpeg', 'Wasp_212.jpg', 'Wasp_318.jpg', 'Wasp_81.png', 'Wasp_574.jpg', 'Wasp_391.jpg', 'Wasp_459.jpg', 'Wasp_625.jpg', 'Wasp_622.png', 'Wasp_576.jpg', 'Wasp_24.jpg', 'Wasp_217.jpg', 'Wasp_431.jpg', 'Wasp_728.jpg', 'Wasp_478.jpg', 'Wasp_266.jpg', 'Wasp_701.jpg', 'Wasp_214.png', 'Wasp_768.jpg', 'Wasp_420.jpg', 'Wasp_107.jpg', 'Wasp_170.jpg', 'Wasp_786.jpg', 'Wasp_678.jpg', 'Wasp_698.jpg', 'Wasp_297.jpg', 'Wasp_171.jpg', 'Wasp_654.jpg', 'Wasp_166.jpg', 'Wasp_757.jpg', 'Wasp_289.jpg', 'Wasp_83.jpg', 'Wasp_772.jpg', 'Wasp_109.jpg', 'Wasp_719.jpg', 'Wasp_335.jpg', 'Wasp_74.jpg', 'Wasp_86.jpg', 'Wasp_658.jpg', 'Wasp_799.jpg', 'Wasp_535.jpg', 'Wasp_407.jpg', 'Wasp_723.jpg', 'Wasp_372.jpg', 'Wasp_730.jpg', 'Wasp_251.jpg', 'Wasp_315.jpg', 'Wasp_222.jpg', 'Wasp_652.jpg', 'Wasp_498.jpg', 'Wasp_727.jpg', 'Wasp_788.jpg', 'Wasp_223.jpg', 'Wasp_632.jpg', 'Wasp_168.jpeg', 'Wasp_429.jpg', 'Wasp_2.jpeg', 'Wasp_118.jpeg', 'Wasp_15.jpg', 'Wasp_560.jpg', 'Wasp_559.jpg', 'Wasp_28.png', 'Wasp_319.png', 'Wasp_753.png', 'Wasp_392.jpg', 'Wasp_193.jpeg', 'Wasp_312.jpg', 'Wasp_706.png', 'Wasp_764.png', 'Wasp_516.jpg', 'Wasp_557.jpg', 'Wasp_491.jpg', 'Wasp_329.jpg', 'Wasp_306.jpg', 'Wasp_80.png', 'Wasp_584.jpg', 'Wasp_551.jpg', 'Wasp_666.jpg', 'Wasp_301.jpg', 'Wasp_787.jpg', 'Wasp_569.jpg', 'Wasp_253.jpg', 'Wasp_779.png', 'Wasp_148.jpg', 'Wasp_595.jpeg', 'Wasp_659.jpg', 'Wasp_270.jpg', 'Wasp_293.jpg', 'Wasp_683.jpg', 'Wasp_425.jpg', 'Wasp_714.jpg', 'Wasp_403.jpg', 'Wasp_184.jpg', 'Wasp_75.jpg', 'Wasp_564.jpg', 'Wasp_48.jpg', 'Wasp_58.jpg', 'Wasp_394.jpg', 'Wasp_29.jpg', 'Wasp_371.jpg', 'Wasp_545.jpg', 'Wasp_751.jpg', 'Wasp_715.jpg', 'Wasp_614.jpg', 'Wasp_633.jpg', 'Wasp_160.jpg', 'Wasp_495.jpg', 'Wasp_410.jpg', 'Wasp_367.jpg', 'Wasp_390.jpg', 'Wasp_729.jpg', 'Wasp_353.jpg', 'Wasp_64.jpg', 'Wasp_644.jpg', 'Wasp_43.jpg', 'Wasp_72.jpg', 'Wasp_620.jpg', 'Wasp_593.png', 'Wasp_462.jpg', 'Wasp_296.jpg', 'Wasp_657.jpg', 'Wasp_40.jpg', 'Wasp_192.jpg', 'Wasp_182.jpg', 'Wasp_300.jpg', 'Wasp_791.jpg', 'Wasp_497.jpg', 'Wasp_326.jpg', 'Wasp_555.jpg', 'Wasp_812.jpg', 'Wasp_343.jpg', 'Wasp_369.jpg', 'Wasp_761.jpg', 'Wasp_602.jpg', 'Wasp_748.jpg', 'Wasp_639.png', 'Wasp_669.jpg', 'Wasp_532.jpg', 'Wasp_619.jpg', 'Wasp_6.jpg', 'Wasp_378.jpg', 'Wasp_762.jpeg', 'Wasp_144.jpg', 'Wasp_760.jpg', 'Wasp_283.png', 'Wasp_437.jpg', 'Wasp_618.jpg', 'Wasp_98.jpg', 'Wasp_586.jpg', 'Wasp_720.jpg', 'Wasp_765.jpg', 'Wasp_158.jpg', 'Wasp_210.jpg', 'Wasp_204.jpg', 'Wasp_511.jpg', 'Wasp_428.jpg', 'Wasp_627.jpg', 'Wasp_526.jpg', 'Wasp_20.jpg', 'Wasp_347.jpg', 'Wasp_63.jpg', 'Wasp_354.jpg', 'Wasp_790.png', 'Wasp_313.jpg', 'Wasp_365.jpg', 'Wasp_99.jpg', 'Wasp_248.jpg', 'Wasp_350.jpg', 'Wasp_229.jpg', 'Wasp_330.jpg', 'Wasp_623.jpg', 'Wasp_430.jpg', 'Wasp_187.jpg', 'Wasp_62.jpg', 'Wasp_705.jpg', 'Wasp_254.jpg', 'Wasp_234.jpg', 'Wasp_570.jpg', 'Wasp_460.jpg', 'Wasp_554.jpg', 'Wasp_396.jpg', 'Wasp_641.jpg', 'Wasp_739.png', 'Wasp_592.jpg', 'Wasp_385.jpg', 'Wasp_405.jpg', 'Wasp_134.jpg', 'Wasp_487.jpg', 'Wasp_397.jpg', 'Wasp_738.png', 'Wasp_463.jpg', 'Wasp_780.jpg', 'Wasp_26.jpeg', 'Wasp_636.jpg', 'Wasp_190.jpg', 'Wasp_185.jpg', 'Wasp_503.jpg', 'Wasp_188.jpg', 'Wasp_575.jpg', 'Wasp_404.jpg', 'Wasp_215.jpg', 'Wasp_388.jpg', 'Wasp_581.jpg', 'Wasp_383.jpg', 'Wasp_434.jpg', 'Wasp_475.jpg', 'Wasp_758.jpg', 'Wasp_163.jpg', 'Wasp_573.jpg', 'Wasp_401.jpg', 'Wasp_408.jpg', 'Wasp_250.jpeg', 'Wasp_259.jpg', 'Wasp_273.jpg', 'Wasp_141.jpeg', 'Wasp_797.jpg', 'Wasp_206.jpg', 'Wasp_432.jpg', 'Wasp_691.jpg', 'Wasp_337.jpg', 'Wasp_725.jpg', 'Wasp_599.jpg', 'Wasp_745.jpg', 'Wasp_264.jpg', 'Wasp_213.jpg', 'Wasp_468.jpg', 'Wasp_467.jpg', 'Wasp_775.png', 'Wasp_750.jpg', 'Wasp_331.jpg', 'Wasp_224.jpg', 'Wasp_566.jpg', 'Wasp_355.jpg', 'Wasp_709.jpg', 'Wasp_159.jpg', 'Wasp_380.jpg', 'Wasp_549.jpg', 'Wasp_733.jpg', 'Wasp_243.jpg', 'Wasp_563.jpg', 'Wasp_800.jpg', 'Wasp_384.jpg', 'Wasp_239.jpg', 'Wasp_146.jpg', 'Wasp_802.jpg', 'Wasp_479.jpg', 'Wasp_211.jpg', 'Wasp_617.jpg', 'Wasp_268.jpg', 'Wasp_287.jpg', 'Wasp_275.jpg', 'Wasp_208.jpg', 'Wasp_621.jpg', 'Wasp_157.jpg', 'Wasp_34.jpg', 'Wasp_265.jpg', 'Wasp_342.jpg', 'Wasp_181.jpg', 'Wasp_552.jpg', 'Wasp_41.jpg', 'Wasp_274.jpg', 'Wasp_562.jpg', 'Wasp_172.jpg', 'Wasp_130.jpg', 'Wasp_235.jpg', 'Wasp_292.png', 'Wasp_577.jpg', 'Wasp_69.jpg', 'Wasp_579.jpg']\n"
          ]
        }
      ]
    },
    {
      "cell_type": "code",
      "source": [
        "IMG_SIZE = (128, 128)\n",
        "BATCH_SIZE = 32\n",
        "\n",
        "datagen = ImageDataGenerator(rescale=1./255)\n",
        "\n",
        "train_generator = datagen.flow_from_directory(train_dir, target_size=IMG_SIZE, batch_size=BATCH_SIZE, class_mode='categorical')\n",
        "val_generator = datagen.flow_from_directory(val_dir, target_size=IMG_SIZE, batch_size=BATCH_SIZE, class_mode='categorical')\n",
        "test_generator = datagen.flow_from_directory(test_dir, target_size=IMG_SIZE, batch_size=BATCH_SIZE, class_mode='categorical')\n"
      ],
      "metadata": {
        "id": "5aVfwNMDAYWo",
        "colab": {
          "base_uri": "https://localhost:8080/"
        },
        "outputId": "5b632d2f-a48e-47a7-dedf-4b9412686eab"
      },
      "execution_count": 13,
      "outputs": [
        {
          "output_type": "stream",
          "name": "stdout",
          "text": [
            "Found 6880 images belonging to 11 classes.\n",
            "Found 856 images belonging to 11 classes.\n",
            "Found 869 images belonging to 11 classes.\n"
          ]
        }
      ]
    },
    {
      "cell_type": "code",
      "source": [
        "model = keras.Sequential([\n",
        "    layers.Conv2D(32, (3,3), activation='relu', input_shape=(128,128,3)),\n",
        "    layers.MaxPooling2D(2,2),\n",
        "    layers.Conv2D(64, (3,3), activation='relu'),\n",
        "    layers.MaxPooling2D(2,2),\n",
        "    layers.Conv2D(128, (3,3), activation='relu'),\n",
        "    layers.MaxPooling2D(2,2),\n",
        "    layers.Flatten(),\n",
        "    layers.Dense(512, activation='relu'),\n",
        "    layers.Dropout(0.5),\n",
        "    layers.Dense(train_generator.num_classes, activation='softmax')\n",
        "])\n",
        "\n",
        "model.compile(optimizer='adam', loss='categorical_crossentropy', metrics=['accuracy'])\n",
        "model.summary()\n"
      ],
      "metadata": {
        "id": "fqMXHouuAZk9",
        "colab": {
          "base_uri": "https://localhost:8080/",
          "height": 505
        },
        "outputId": "5f98cccf-d1a3-4049-c0e3-70aa4d740bfd"
      },
      "execution_count": 14,
      "outputs": [
        {
          "output_type": "stream",
          "name": "stderr",
          "text": [
            "/usr/local/lib/python3.11/dist-packages/keras/src/layers/convolutional/base_conv.py:107: UserWarning: Do not pass an `input_shape`/`input_dim` argument to a layer. When using Sequential models, prefer using an `Input(shape)` object as the first layer in the model instead.\n",
            "  super().__init__(activity_regularizer=activity_regularizer, **kwargs)\n"
          ]
        },
        {
          "output_type": "display_data",
          "data": {
            "text/plain": [
              "\u001b[1mModel: \"sequential\"\u001b[0m\n"
            ],
            "text/html": [
              "<pre style=\"white-space:pre;overflow-x:auto;line-height:normal;font-family:Menlo,'DejaVu Sans Mono',consolas,'Courier New',monospace\"><span style=\"font-weight: bold\">Model: \"sequential\"</span>\n",
              "</pre>\n"
            ]
          },
          "metadata": {}
        },
        {
          "output_type": "display_data",
          "data": {
            "text/plain": [
              "┏━━━━━━━━━━━━━━━━━━━━━━━━━━━━━━━━━━━━━━┳━━━━━━━━━━━━━━━━━━━━━━━━━━━━━┳━━━━━━━━━━━━━━━━━┓\n",
              "┃\u001b[1m \u001b[0m\u001b[1mLayer (type)                        \u001b[0m\u001b[1m \u001b[0m┃\u001b[1m \u001b[0m\u001b[1mOutput Shape               \u001b[0m\u001b[1m \u001b[0m┃\u001b[1m \u001b[0m\u001b[1m        Param #\u001b[0m\u001b[1m \u001b[0m┃\n",
              "┡━━━━━━━━━━━━━━━━━━━━━━━━━━━━━━━━━━━━━━╇━━━━━━━━━━━━━━━━━━━━━━━━━━━━━╇━━━━━━━━━━━━━━━━━┩\n",
              "│ conv2d (\u001b[38;5;33mConv2D\u001b[0m)                      │ (\u001b[38;5;45mNone\u001b[0m, \u001b[38;5;34m126\u001b[0m, \u001b[38;5;34m126\u001b[0m, \u001b[38;5;34m32\u001b[0m)        │             \u001b[38;5;34m896\u001b[0m │\n",
              "├──────────────────────────────────────┼─────────────────────────────┼─────────────────┤\n",
              "│ max_pooling2d (\u001b[38;5;33mMaxPooling2D\u001b[0m)         │ (\u001b[38;5;45mNone\u001b[0m, \u001b[38;5;34m63\u001b[0m, \u001b[38;5;34m63\u001b[0m, \u001b[38;5;34m32\u001b[0m)          │               \u001b[38;5;34m0\u001b[0m │\n",
              "├──────────────────────────────────────┼─────────────────────────────┼─────────────────┤\n",
              "│ conv2d_1 (\u001b[38;5;33mConv2D\u001b[0m)                    │ (\u001b[38;5;45mNone\u001b[0m, \u001b[38;5;34m61\u001b[0m, \u001b[38;5;34m61\u001b[0m, \u001b[38;5;34m64\u001b[0m)          │          \u001b[38;5;34m18,496\u001b[0m │\n",
              "├──────────────────────────────────────┼─────────────────────────────┼─────────────────┤\n",
              "│ max_pooling2d_1 (\u001b[38;5;33mMaxPooling2D\u001b[0m)       │ (\u001b[38;5;45mNone\u001b[0m, \u001b[38;5;34m30\u001b[0m, \u001b[38;5;34m30\u001b[0m, \u001b[38;5;34m64\u001b[0m)          │               \u001b[38;5;34m0\u001b[0m │\n",
              "├──────────────────────────────────────┼─────────────────────────────┼─────────────────┤\n",
              "│ conv2d_2 (\u001b[38;5;33mConv2D\u001b[0m)                    │ (\u001b[38;5;45mNone\u001b[0m, \u001b[38;5;34m28\u001b[0m, \u001b[38;5;34m28\u001b[0m, \u001b[38;5;34m128\u001b[0m)         │          \u001b[38;5;34m73,856\u001b[0m │\n",
              "├──────────────────────────────────────┼─────────────────────────────┼─────────────────┤\n",
              "│ max_pooling2d_2 (\u001b[38;5;33mMaxPooling2D\u001b[0m)       │ (\u001b[38;5;45mNone\u001b[0m, \u001b[38;5;34m14\u001b[0m, \u001b[38;5;34m14\u001b[0m, \u001b[38;5;34m128\u001b[0m)         │               \u001b[38;5;34m0\u001b[0m │\n",
              "├──────────────────────────────────────┼─────────────────────────────┼─────────────────┤\n",
              "│ flatten (\u001b[38;5;33mFlatten\u001b[0m)                    │ (\u001b[38;5;45mNone\u001b[0m, \u001b[38;5;34m25088\u001b[0m)               │               \u001b[38;5;34m0\u001b[0m │\n",
              "├──────────────────────────────────────┼─────────────────────────────┼─────────────────┤\n",
              "│ dense (\u001b[38;5;33mDense\u001b[0m)                        │ (\u001b[38;5;45mNone\u001b[0m, \u001b[38;5;34m512\u001b[0m)                 │      \u001b[38;5;34m12,845,568\u001b[0m │\n",
              "├──────────────────────────────────────┼─────────────────────────────┼─────────────────┤\n",
              "│ dropout (\u001b[38;5;33mDropout\u001b[0m)                    │ (\u001b[38;5;45mNone\u001b[0m, \u001b[38;5;34m512\u001b[0m)                 │               \u001b[38;5;34m0\u001b[0m │\n",
              "├──────────────────────────────────────┼─────────────────────────────┼─────────────────┤\n",
              "│ dense_1 (\u001b[38;5;33mDense\u001b[0m)                      │ (\u001b[38;5;45mNone\u001b[0m, \u001b[38;5;34m11\u001b[0m)                  │           \u001b[38;5;34m5,643\u001b[0m │\n",
              "└──────────────────────────────────────┴─────────────────────────────┴─────────────────┘\n"
            ],
            "text/html": [
              "<pre style=\"white-space:pre;overflow-x:auto;line-height:normal;font-family:Menlo,'DejaVu Sans Mono',consolas,'Courier New',monospace\">┏━━━━━━━━━━━━━━━━━━━━━━━━━━━━━━━━━━━━━━┳━━━━━━━━━━━━━━━━━━━━━━━━━━━━━┳━━━━━━━━━━━━━━━━━┓\n",
              "┃<span style=\"font-weight: bold\"> Layer (type)                         </span>┃<span style=\"font-weight: bold\"> Output Shape                </span>┃<span style=\"font-weight: bold\">         Param # </span>┃\n",
              "┡━━━━━━━━━━━━━━━━━━━━━━━━━━━━━━━━━━━━━━╇━━━━━━━━━━━━━━━━━━━━━━━━━━━━━╇━━━━━━━━━━━━━━━━━┩\n",
              "│ conv2d (<span style=\"color: #0087ff; text-decoration-color: #0087ff\">Conv2D</span>)                      │ (<span style=\"color: #00d7ff; text-decoration-color: #00d7ff\">None</span>, <span style=\"color: #00af00; text-decoration-color: #00af00\">126</span>, <span style=\"color: #00af00; text-decoration-color: #00af00\">126</span>, <span style=\"color: #00af00; text-decoration-color: #00af00\">32</span>)        │             <span style=\"color: #00af00; text-decoration-color: #00af00\">896</span> │\n",
              "├──────────────────────────────────────┼─────────────────────────────┼─────────────────┤\n",
              "│ max_pooling2d (<span style=\"color: #0087ff; text-decoration-color: #0087ff\">MaxPooling2D</span>)         │ (<span style=\"color: #00d7ff; text-decoration-color: #00d7ff\">None</span>, <span style=\"color: #00af00; text-decoration-color: #00af00\">63</span>, <span style=\"color: #00af00; text-decoration-color: #00af00\">63</span>, <span style=\"color: #00af00; text-decoration-color: #00af00\">32</span>)          │               <span style=\"color: #00af00; text-decoration-color: #00af00\">0</span> │\n",
              "├──────────────────────────────────────┼─────────────────────────────┼─────────────────┤\n",
              "│ conv2d_1 (<span style=\"color: #0087ff; text-decoration-color: #0087ff\">Conv2D</span>)                    │ (<span style=\"color: #00d7ff; text-decoration-color: #00d7ff\">None</span>, <span style=\"color: #00af00; text-decoration-color: #00af00\">61</span>, <span style=\"color: #00af00; text-decoration-color: #00af00\">61</span>, <span style=\"color: #00af00; text-decoration-color: #00af00\">64</span>)          │          <span style=\"color: #00af00; text-decoration-color: #00af00\">18,496</span> │\n",
              "├──────────────────────────────────────┼─────────────────────────────┼─────────────────┤\n",
              "│ max_pooling2d_1 (<span style=\"color: #0087ff; text-decoration-color: #0087ff\">MaxPooling2D</span>)       │ (<span style=\"color: #00d7ff; text-decoration-color: #00d7ff\">None</span>, <span style=\"color: #00af00; text-decoration-color: #00af00\">30</span>, <span style=\"color: #00af00; text-decoration-color: #00af00\">30</span>, <span style=\"color: #00af00; text-decoration-color: #00af00\">64</span>)          │               <span style=\"color: #00af00; text-decoration-color: #00af00\">0</span> │\n",
              "├──────────────────────────────────────┼─────────────────────────────┼─────────────────┤\n",
              "│ conv2d_2 (<span style=\"color: #0087ff; text-decoration-color: #0087ff\">Conv2D</span>)                    │ (<span style=\"color: #00d7ff; text-decoration-color: #00d7ff\">None</span>, <span style=\"color: #00af00; text-decoration-color: #00af00\">28</span>, <span style=\"color: #00af00; text-decoration-color: #00af00\">28</span>, <span style=\"color: #00af00; text-decoration-color: #00af00\">128</span>)         │          <span style=\"color: #00af00; text-decoration-color: #00af00\">73,856</span> │\n",
              "├──────────────────────────────────────┼─────────────────────────────┼─────────────────┤\n",
              "│ max_pooling2d_2 (<span style=\"color: #0087ff; text-decoration-color: #0087ff\">MaxPooling2D</span>)       │ (<span style=\"color: #00d7ff; text-decoration-color: #00d7ff\">None</span>, <span style=\"color: #00af00; text-decoration-color: #00af00\">14</span>, <span style=\"color: #00af00; text-decoration-color: #00af00\">14</span>, <span style=\"color: #00af00; text-decoration-color: #00af00\">128</span>)         │               <span style=\"color: #00af00; text-decoration-color: #00af00\">0</span> │\n",
              "├──────────────────────────────────────┼─────────────────────────────┼─────────────────┤\n",
              "│ flatten (<span style=\"color: #0087ff; text-decoration-color: #0087ff\">Flatten</span>)                    │ (<span style=\"color: #00d7ff; text-decoration-color: #00d7ff\">None</span>, <span style=\"color: #00af00; text-decoration-color: #00af00\">25088</span>)               │               <span style=\"color: #00af00; text-decoration-color: #00af00\">0</span> │\n",
              "├──────────────────────────────────────┼─────────────────────────────┼─────────────────┤\n",
              "│ dense (<span style=\"color: #0087ff; text-decoration-color: #0087ff\">Dense</span>)                        │ (<span style=\"color: #00d7ff; text-decoration-color: #00d7ff\">None</span>, <span style=\"color: #00af00; text-decoration-color: #00af00\">512</span>)                 │      <span style=\"color: #00af00; text-decoration-color: #00af00\">12,845,568</span> │\n",
              "├──────────────────────────────────────┼─────────────────────────────┼─────────────────┤\n",
              "│ dropout (<span style=\"color: #0087ff; text-decoration-color: #0087ff\">Dropout</span>)                    │ (<span style=\"color: #00d7ff; text-decoration-color: #00d7ff\">None</span>, <span style=\"color: #00af00; text-decoration-color: #00af00\">512</span>)                 │               <span style=\"color: #00af00; text-decoration-color: #00af00\">0</span> │\n",
              "├──────────────────────────────────────┼─────────────────────────────┼─────────────────┤\n",
              "│ dense_1 (<span style=\"color: #0087ff; text-decoration-color: #0087ff\">Dense</span>)                      │ (<span style=\"color: #00d7ff; text-decoration-color: #00d7ff\">None</span>, <span style=\"color: #00af00; text-decoration-color: #00af00\">11</span>)                  │           <span style=\"color: #00af00; text-decoration-color: #00af00\">5,643</span> │\n",
              "└──────────────────────────────────────┴─────────────────────────────┴─────────────────┘\n",
              "</pre>\n"
            ]
          },
          "metadata": {}
        },
        {
          "output_type": "display_data",
          "data": {
            "text/plain": [
              "\u001b[1m Total params: \u001b[0m\u001b[38;5;34m12,944,459\u001b[0m (49.38 MB)\n"
            ],
            "text/html": [
              "<pre style=\"white-space:pre;overflow-x:auto;line-height:normal;font-family:Menlo,'DejaVu Sans Mono',consolas,'Courier New',monospace\"><span style=\"font-weight: bold\"> Total params: </span><span style=\"color: #00af00; text-decoration-color: #00af00\">12,944,459</span> (49.38 MB)\n",
              "</pre>\n"
            ]
          },
          "metadata": {}
        },
        {
          "output_type": "display_data",
          "data": {
            "text/plain": [
              "\u001b[1m Trainable params: \u001b[0m\u001b[38;5;34m12,944,459\u001b[0m (49.38 MB)\n"
            ],
            "text/html": [
              "<pre style=\"white-space:pre;overflow-x:auto;line-height:normal;font-family:Menlo,'DejaVu Sans Mono',consolas,'Courier New',monospace\"><span style=\"font-weight: bold\"> Trainable params: </span><span style=\"color: #00af00; text-decoration-color: #00af00\">12,944,459</span> (49.38 MB)\n",
              "</pre>\n"
            ]
          },
          "metadata": {}
        },
        {
          "output_type": "display_data",
          "data": {
            "text/plain": [
              "\u001b[1m Non-trainable params: \u001b[0m\u001b[38;5;34m0\u001b[0m (0.00 B)\n"
            ],
            "text/html": [
              "<pre style=\"white-space:pre;overflow-x:auto;line-height:normal;font-family:Menlo,'DejaVu Sans Mono',consolas,'Courier New',monospace\"><span style=\"font-weight: bold\"> Non-trainable params: </span><span style=\"color: #00af00; text-decoration-color: #00af00\">0</span> (0.00 B)\n",
              "</pre>\n"
            ]
          },
          "metadata": {}
        }
      ]
    },
    {
      "cell_type": "code",
      "source": [
        "early_stopping = keras.callbacks.EarlyStopping(monitor='val_loss', patience=5, restore_best_weights=True)\n",
        "reduce_lr = keras.callbacks.ReduceLROnPlateau(monitor='val_loss', factor=0.2, patience=3, verbose=1)\n",
        "\n",
        "history = model.fit(train_generator, epochs=20, validation_data=val_generator, callbacks=[early_stopping, reduce_lr])\n"
      ],
      "metadata": {
        "id": "aZVOispHAgk9",
        "colab": {
          "base_uri": "https://localhost:8080/"
        },
        "outputId": "dbb508fe-1de9-4bcd-f99a-6939d3c29652"
      },
      "execution_count": 15,
      "outputs": [
        {
          "metadata": {
            "tags": null
          },
          "name": "stderr",
          "output_type": "stream",
          "text": [
            "/usr/local/lib/python3.11/dist-packages/keras/src/trainers/data_adapters/py_dataset_adapter.py:121: UserWarning: Your `PyDataset` class should call `super().__init__(**kwargs)` in its constructor. `**kwargs` can include `workers`, `use_multiprocessing`, `max_queue_size`. Do not pass these arguments to `fit()`, as they will be ignored.\n",
            "  self._warn_if_super_not_called()\n"
          ]
        },
        {
          "metadata": {
            "tags": null
          },
          "name": "stdout",
          "output_type": "stream",
          "text": [
            "Epoch 1/20\n",
            "\u001b[1m173/215\u001b[0m \u001b[32m━━━━━━━━━━━━━━━━\u001b[0m\u001b[37m━━━━\u001b[0m \u001b[1m1:01\u001b[0m 1s/step - accuracy: 0.2382 - loss: 2.2164"
          ]
        },
        {
          "metadata": {
            "tags": null
          },
          "name": "stderr",
          "output_type": "stream",
          "text": [
            "/usr/local/lib/python3.11/dist-packages/PIL/TiffImagePlugin.py:949: UserWarning: Corrupt EXIF data.  Expecting to read 4 bytes but only got 0. \n",
            "  warnings.warn(str(msg))\n"
          ]
        },
        {
          "output_type": "stream",
          "name": "stdout",
          "text": [
            "\u001b[1m215/215\u001b[0m \u001b[32m━━━━━━━━━━━━━━━━━━━━\u001b[0m\u001b[37m\u001b[0m \u001b[1m341s\u001b[0m 2s/step - accuracy: 0.2627 - loss: 2.1469 - val_accuracy: 0.5479 - val_loss: 1.2957 - learning_rate: 0.0010\n",
            "Epoch 2/20\n",
            "\u001b[1m215/215\u001b[0m \u001b[32m━━━━━━━━━━━━━━━━━━━━\u001b[0m\u001b[37m\u001b[0m \u001b[1m326s\u001b[0m 2s/step - accuracy: 0.5719 - loss: 1.2598 - val_accuracy: 0.6799 - val_loss: 1.0003 - learning_rate: 0.0010\n",
            "Epoch 3/20\n",
            "\u001b[1m215/215\u001b[0m \u001b[32m━━━━━━━━━━━━━━━━━━━━\u001b[0m\u001b[37m\u001b[0m \u001b[1m331s\u001b[0m 2s/step - accuracy: 0.6915 - loss: 0.9340 - val_accuracy: 0.7278 - val_loss: 0.8244 - learning_rate: 0.0010\n",
            "Epoch 4/20\n",
            "\u001b[1m215/215\u001b[0m \u001b[32m━━━━━━━━━━━━━━━━━━━━\u001b[0m\u001b[37m\u001b[0m \u001b[1m375s\u001b[0m 2s/step - accuracy: 0.7720 - loss: 0.6869 - val_accuracy: 0.7956 - val_loss: 0.6482 - learning_rate: 0.0010\n",
            "Epoch 5/20\n",
            "\u001b[1m215/215\u001b[0m \u001b[32m━━━━━━━━━━━━━━━━━━━━\u001b[0m\u001b[37m\u001b[0m \u001b[1m325s\u001b[0m 2s/step - accuracy: 0.8174 - loss: 0.5461 - val_accuracy: 0.8154 - val_loss: 0.6181 - learning_rate: 0.0010\n",
            "Epoch 6/20\n",
            "\u001b[1m215/215\u001b[0m \u001b[32m━━━━━━━━━━━━━━━━━━━━\u001b[0m\u001b[37m\u001b[0m \u001b[1m318s\u001b[0m 1s/step - accuracy: 0.8831 - loss: 0.3557 - val_accuracy: 0.8236 - val_loss: 0.5800 - learning_rate: 0.0010\n",
            "Epoch 7/20\n",
            "\u001b[1m215/215\u001b[0m \u001b[32m━━━━━━━━━━━━━━━━━━━━\u001b[0m\u001b[37m\u001b[0m \u001b[1m318s\u001b[0m 1s/step - accuracy: 0.9173 - loss: 0.2562 - val_accuracy: 0.8259 - val_loss: 0.5886 - learning_rate: 0.0010\n",
            "Epoch 8/20\n",
            "\u001b[1m215/215\u001b[0m \u001b[32m━━━━━━━━━━━━━━━━━━━━\u001b[0m\u001b[37m\u001b[0m \u001b[1m324s\u001b[0m 2s/step - accuracy: 0.9389 - loss: 0.1880 - val_accuracy: 0.8248 - val_loss: 0.6464 - learning_rate: 0.0010\n",
            "Epoch 9/20\n",
            "\u001b[1m215/215\u001b[0m \u001b[32m━━━━━━━━━━━━━━━━━━━━\u001b[0m\u001b[37m\u001b[0m \u001b[1m0s\u001b[0m 1s/step - accuracy: 0.9497 - loss: 0.1595\n",
            "Epoch 9: ReduceLROnPlateau reducing learning rate to 0.00020000000949949026.\n",
            "\u001b[1m215/215\u001b[0m \u001b[32m━━━━━━━━━━━━━━━━━━━━\u001b[0m\u001b[37m\u001b[0m \u001b[1m320s\u001b[0m 1s/step - accuracy: 0.9497 - loss: 0.1595 - val_accuracy: 0.8329 - val_loss: 0.6447 - learning_rate: 0.0010\n",
            "Epoch 10/20\n",
            "\u001b[1m215/215\u001b[0m \u001b[32m━━━━━━━━━━━━━━━━━━━━\u001b[0m\u001b[37m\u001b[0m \u001b[1m318s\u001b[0m 1s/step - accuracy: 0.9779 - loss: 0.0791 - val_accuracy: 0.8540 - val_loss: 0.6274 - learning_rate: 2.0000e-04\n",
            "Epoch 11/20\n",
            "\u001b[1m215/215\u001b[0m \u001b[32m━━━━━━━━━━━━━━━━━━━━\u001b[0m\u001b[37m\u001b[0m \u001b[1m318s\u001b[0m 1s/step - accuracy: 0.9895 - loss: 0.0419 - val_accuracy: 0.8493 - val_loss: 0.6848 - learning_rate: 2.0000e-04\n"
          ]
        }
      ]
    },
    {
      "cell_type": "code",
      "source": [
        "import matplotlib.pyplot as plt\n",
        "\n",
        "# Ambil history training\n",
        "acc = history.history['accuracy']\n",
        "val_acc = history.history['val_accuracy']\n",
        "loss = history.history['loss']\n",
        "val_loss = history.history['val_loss']\n",
        "epochs = range(1, len(acc) + 1)\n",
        "\n",
        "# Plot Akurasi\n",
        "plt.figure(figsize=(12, 5))\n",
        "\n",
        "plt.subplot(1, 2, 1)\n",
        "plt.plot(epochs, acc, 'bo-', label='Training Accuracy')\n",
        "plt.plot(epochs, val_acc, 'ro-', label='Validation Accuracy')\n",
        "plt.xlabel('Epochs')\n",
        "plt.ylabel('Accuracy')\n",
        "plt.legend()\n",
        "plt.title('Training & Validation Accuracy')\n",
        "\n",
        "# Plot Loss\n",
        "plt.subplot(1, 2, 2)\n",
        "plt.plot(epochs, loss, 'bo-', label='Training Loss')\n",
        "plt.plot(epochs, val_loss, 'ro-', label='Validation Loss')\n",
        "plt.xlabel('Epochs')\n",
        "plt.ylabel('Loss')\n",
        "plt.legend()\n",
        "plt.title('Training & Validation Loss')\n",
        "\n",
        "plt.show()"
      ],
      "metadata": {
        "colab": {
          "base_uri": "https://localhost:8080/",
          "height": 487
        },
        "id": "O7v1VMewXkvj",
        "outputId": "0d494fb2-3f51-4208-d37c-19edadd8afbd"
      },
      "execution_count": 17,
      "outputs": [
        {
          "output_type": "display_data",
          "data": {
            "text/plain": [
              "<Figure size 1200x500 with 2 Axes>"
            ],
            "image/png": "[encoded data removed]"
          },
          "metadata": {}
        }
      ]
    },
    {
      "cell_type": "code",
      "source": [
        "# Simpan model dalam format SavedModel\n",
        "export_dir = 'saved_model/my_model'\n",
        "tf.saved_model.save(model, export_dir)\n",
        "\n",
        "# Konversi model ke TensorFlow.js\n",
        "!tensorflowjs_converter --input_format=tf_saved_model --output_node_names='dense_2' saved_model/my_model ./tfjs_model\n"
      ],
      "metadata": {
        "id": "HGXqMF0zAiCw",
        "colab": {
          "base_uri": "https://localhost:8080/"
        },
        "outputId": "35e12bab-799c-408e-fe65-d2fbf53bb4da"
      },
      "execution_count": 24,
      "outputs": [
        {
          "output_type": "stream",
          "name": "stdout",
          "text": [
            "2025-03-21 20:27:58.554556: E external/local_xla/xla/stream_executor/cuda/cuda_fft.cc:467] Unable to register cuFFT factory: Attempting to register factory for plugin cuFFT when one has already been registered\n",
            "WARNING: All log messages before absl::InitializeLog() is called are written to STDERR\n",
            "E0000 00:00:1742588878.583280   25125 cuda_dnn.cc:8579] Unable to register cuDNN factory: Attempting to register factory for plugin cuDNN when one has already been registered\n",
            "E0000 00:00:1742588878.591940   25125 cuda_blas.cc:1407] Unable to register cuBLAS factory: Attempting to register factory for plugin cuBLAS when one has already been registered\n",
            "W0000 00:00:1742588878.615165   25125 computation_placer.cc:177] computation placer already registered. Please check linkage and avoid linking the same target more than once.\n",
            "W0000 00:00:1742588878.615221   25125 computation_placer.cc:177] computation placer already registered. Please check linkage and avoid linking the same target more than once.\n",
            "W0000 00:00:1742588878.615226   25125 computation_placer.cc:177] computation placer already registered. Please check linkage and avoid linking the same target more than once.\n",
            "W0000 00:00:1742588878.615230   25125 computation_placer.cc:177] computation placer already registered. Please check linkage and avoid linking the same target more than once.\n",
            "\u001b[32m🌲 Try \u001b[0m\u001b[34mhttps://ydf.readthedocs.io\u001b[0m\u001b[32m, the successor of TensorFlow Decision Forests with more features and faster training!\u001b[0m\n",
            "2025-03-21 20:28:05.520220: E external/local_xla/xla/stream_executor/cuda/cuda_platform.cc:51] failed call to cuInit: INTERNAL: CUDA error: Failed call to cuInit: UNKNOWN ERROR (303)\n",
            "I0000 00:00:1742588886.259351   25125 devices.cc:67] Number of eligible GPUs (core count >= 8, compute capability >= 0.0): 0\n",
            "WARNING: All log messages before absl::InitializeLog() is called are written to STDERR\n",
            "I0000 00:00:1742588886.259621   25125 single_machine.cc:374] Starting new session\n"
          ]
        }
      ]
    },
    {
      "cell_type": "code",
      "source": [
        "import numpy as np\n",
        "from tensorflow.keras.preprocessing import image\n",
        "\n",
        "# Ukuran gambar yang digunakan dalam pelatihan\n",
        "IMG_SIZE = (128, 128)\n",
        "\n",
        "# Mapping class berdasarkan indeks pelatihan\n",
        "class_indices = {'Ant': 0, 'Bee': 1, 'Beetle': 2, 'Butterfly': 3, 'Dragonfly': 4,\n",
        "                 'Fly': 5, 'Grasshopper': 6, 'Ladybug': 7, 'Mosquito': 8, 'Spider': 9, 'Wasp': 10}\n",
        "label_map = {v: k for k, v in class_indices.items()}\n",
        "\n",
        "def predict_image(img_path, model):\n",
        "    \"\"\"Fungsi untuk memprediksi gambar menggunakan model yang sudah dilatih\"\"\"\n",
        "    img = image.load_img(img_path, target_size=IMG_SIZE)\n",
        "    img_array = image.img_to_array(img) / 255.0\n",
        "    img_array = np.expand_dims(img_array, axis=0)\n",
        "\n",
        "    prediction = model.predict(img_array)\n",
        "    predicted_class = np.argmax(prediction, axis=1)[0]\n",
        "\n",
        "    return label_map[predicted_class], prediction[0][predicted_class]\n",
        "\n",
        "# Contoh penggunaan\n",
        "img_path = input(\"Masukkan path gambar: \")\n",
        "predicted_label, confidence = predict_image(img_path, model)\n",
        "print(f\"Prediksi: {predicted_label} dengan keyakinan {confidence:.2f}\")\n"
      ],
      "metadata": {
        "id": "Cb7ObAQNAjBJ",
        "colab": {
          "base_uri": "https://localhost:8080/"
        },
        "outputId": "8d9d0560-f4e3-48b1-c13b-b060f6351a44"
      },
      "execution_count": 32,
      "outputs": [
        {
          "output_type": "stream",
          "name": "stdout",
          "text": [
            "Masukkan path gambar: /content/bee.jpeg\n",
            "\u001b[1m1/1\u001b[0m \u001b[32m━━━━━━━━━━━━━━━━━━━━\u001b[0m\u001b[37m\u001b[0m \u001b[1m0s\u001b[0m 62ms/step\n",
            "Prediksi: Bee dengan keyakinan 0.81\n"
          ]
        }
      ]
    },
    {
      "cell_type": "code",
      "source": [
        "from google.colab import files\n",
        "import shutil\n",
        "\n",
        "shutil.make_archive('tfjs_model', 'zip', '/content/tfjs_model')\n",
        "files.download('tfjs_model.zip')\n"
      ],
      "metadata": {
        "colab": {
          "base_uri": "https://localhost:8080/",
          "height": 17
        },
        "id": "Roetie_iaJ6H",
        "outputId": "ad6b3bcf-e4a9-4bcf-d7b4-f710be9ed7eb"
      },
      "execution_count": 27,
      "outputs": [
        {
          "output_type": "display_data",
          "data": {
            "text/plain": [
              "<IPython.core.display.Javascript object>"
            ],
            "application/javascript": [
              "\n",
              "    async function download(id, filename, size) {\n",
              "      if (!google.colab.kernel.accessAllowed) {\n",
              "        return;\n",
              "      }\n",
              "      const div = document.createElement('div');\n",
              "      const label = document.createElement('label');\n",
              "      label.textContent = `Downloading \"${filename}\": `;\n",
              "      div.appendChild(label);\n",
              "      const progress = document.createElement('progress');\n",
              "      progress.max = size;\n",
              "      div.appendChild(progress);\n",
              "      document.body.appendChild(div);\n",
              "\n",
              "      const buffers = [];\n",
              "      let downloaded = 0;\n",
              "\n",
              "      const channel = await google.colab.kernel.comms.open(id);\n",
              "      // Send a message to notify the kernel that we're ready.\n",
              "      channel.send({})\n",
              "\n",
              "      for await (const message of channel.messages) {\n",
              "        // Send a message to notify the kernel that we're ready.\n",
              "        channel.send({})\n",
              "        if (message.buffers) {\n",
              "          for (const buffer of message.buffers) {\n",
              "            buffers.push(buffer);\n",
              "            downloaded += buffer.byteLength;\n",
              "            progress.value = downloaded;\n",
              "          }\n",
              "        }\n",
              "      }\n",
              "      const blob = new Blob(buffers, {type: 'application/binary'});\n",
              "      const a = document.createElement('a');\n",
              "      a.href = window.URL.createObjectURL(blob);\n",
              "      a.download = filename;\n",
              "      div.appendChild(a);\n",
              "      a.click();\n",
              "      div.remove();\n",
              "    }\n",
              "  "
            ]
          },
          "metadata": {}
        },
        {
          "output_type": "display_data",
          "data": {
            "text/plain": [
              "<IPython.core.display.Javascript object>"
            ],
            "application/javascript": [
              "download(\"download_b4d61abe-0c07-4bd4-8c26-2ecca2491da4\", \"tfjs_model.zip\", 48258682)"
            ]
          },
          "metadata": {}
        }
      ]
    },
    {
      "cell_type": "code",
      "source": [
        "files.download('/content/model.tflite')"
      ],
      "metadata": {
        "colab": {
          "base_uri": "https://localhost:8080/",
          "height": 17
        },
        "id": "NAw7rjUHajdi",
        "outputId": "949ed3df-78fe-4058-98dd-99b8ac13e4d7"
      },
      "execution_count": 28,
      "outputs": [
        {
          "output_type": "display_data",
          "data": {
            "text/plain": [
              "<IPython.core.display.Javascript object>"
            ],
            "application/javascript": [
              "\n",
              "    async function download(id, filename, size) {\n",
              "      if (!google.colab.kernel.accessAllowed) {\n",
              "        return;\n",
              "      }\n",
              "      const div = document.createElement('div');\n",
              "      const label = document.createElement('label');\n",
              "      label.textContent = `Downloading \"${filename}\": `;\n",
              "      div.appendChild(label);\n",
              "      const progress = document.createElement('progress');\n",
              "      progress.max = size;\n",
              "      div.appendChild(progress);\n",
              "      document.body.appendChild(div);\n",
              "\n",
              "      const buffers = [];\n",
              "      let downloaded = 0;\n",
              "\n",
              "      const channel = await google.colab.kernel.comms.open(id);\n",
              "      // Send a message to notify the kernel that we're ready.\n",
              "      channel.send({})\n",
              "\n",
              "      for await (const message of channel.messages) {\n",
              "        // Send a message to notify the kernel that we're ready.\n",
              "        channel.send({})\n",
              "        if (message.buffers) {\n",
              "          for (const buffer of message.buffers) {\n",
              "            buffers.push(buffer);\n",
              "            downloaded += buffer.byteLength;\n",
              "            progress.value = downloaded;\n",
              "          }\n",
              "        }\n",
              "      }\n",
              "      const blob = new Blob(buffers, {type: 'application/binary'});\n",
              "      const a = document.createElement('a');\n",
              "      a.href = window.URL.createObjectURL(blob);\n",
              "      a.download = filename;\n",
              "      div.appendChild(a);\n",
              "      a.click();\n",
              "      div.remove();\n",
              "    }\n",
              "  "
            ]
          },
          "metadata": {}
        },
        {
          "output_type": "display_data",
          "data": {
            "text/plain": [
              "<IPython.core.display.Javascript object>"
            ],
            "application/javascript": [
              "download(\"download_43fb4c23-de44-4c6f-995f-4856d25e0f23\", \"model.tflite\", 51781828)"
            ]
          },
          "metadata": {}
        }
      ]
    },
    {
      "cell_type": "code",
      "source": [
        "shutil.make_archive('saved_model', 'zip', '/content/saved_model')\n",
        "files.download('saved_model.zip')\n"
      ],
      "metadata": {
        "colab": {
          "base_uri": "https://localhost:8080/",
          "height": 17
        },
        "id": "r_CgXO0Da04A",
        "outputId": "f7b08f85-a2a7-4134-d2a7-d0acf17ebec5"
      },
      "execution_count": 29,
      "outputs": [
        {
          "output_type": "display_data",
          "data": {
            "text/plain": [
              "<IPython.core.display.Javascript object>"
            ],
            "application/javascript": [
              "\n",
              "    async function download(id, filename, size) {\n",
              "      if (!google.colab.kernel.accessAllowed) {\n",
              "        return;\n",
              "      }\n",
              "      const div = document.createElement('div');\n",
              "      const label = document.createElement('label');\n",
              "      label.textContent = `Downloading \"${filename}\": `;\n",
              "      div.appendChild(label);\n",
              "      const progress = document.createElement('progress');\n",
              "      progress.max = size;\n",
              "      div.appendChild(progress);\n",
              "      document.body.appendChild(div);\n",
              "\n",
              "      const buffers = [];\n",
              "      let downloaded = 0;\n",
              "\n",
              "      const channel = await google.colab.kernel.comms.open(id);\n",
              "      // Send a message to notify the kernel that we're ready.\n",
              "      channel.send({})\n",
              "\n",
              "      for await (const message of channel.messages) {\n",
              "        // Send a message to notify the kernel that we're ready.\n",
              "        channel.send({})\n",
              "        if (message.buffers) {\n",
              "          for (const buffer of message.buffers) {\n",
              "            buffers.push(buffer);\n",
              "            downloaded += buffer.byteLength;\n",
              "            progress.value = downloaded;\n",
              "          }\n",
              "        }\n",
              "      }\n",
              "      const blob = new Blob(buffers, {type: 'application/binary'});\n",
              "      const a = document.createElement('a');\n",
              "      a.href = window.URL.createObjectURL(blob);\n",
              "      a.download = filename;\n",
              "      div.appendChild(a);\n",
              "      a.click();\n",
              "      div.remove();\n",
              "    }\n",
              "  "
            ]
          },
          "metadata": {}
        },
        {
          "output_type": "display_data",
          "data": {
            "text/plain": [
              "<IPython.core.display.Javascript object>"
            ],
            "application/javascript": [
              "download(\"download_6c6ec1c3-803f-409c-b813-cd7edba0c079\", \"saved_model.zip\", 136150431)"
            ]
          },
          "metadata": {}
        }
      ]
    },
    {
      "cell_type": "code",
      "source": [
        "pip freeze > requirements.txt"
      ],
      "metadata": {
        "id": "zKBGEYmSb1CF"
      },
      "execution_count": 33,
      "outputs": []
    }
  ]
}